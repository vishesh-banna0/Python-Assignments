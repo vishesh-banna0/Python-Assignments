{
 "cells": [
  {
   "cell_type": "markdown",
   "id": "f33244f9",
   "metadata": {},
   "source": [
    "***Assigment 1***\n",
    "* ***Name - Vishesh Shekhawat***\n",
    "* ***Roll No. - 25201323***\n",
    "* ***Github: pass***"
   ]
  },
  {
   "cell_type": "markdown",
   "id": "f62ea387",
   "metadata": {},
   "source": [
    "Q.1 WAP to get a list, sorted in increasing order by the last element in each tuple from a given list of non-empty tuples\n",
    "\n",
    "sample list: [(2,5),(1,2),(4,4),(2,3),(2,1)]"
   ]
  },
  {
   "cell_type": "code",
   "execution_count": 2,
   "id": "00dbe77a",
   "metadata": {},
   "outputs": [
    {
     "name": "stdout",
     "output_type": "stream",
     "text": [
      "Sorted Tuple:  [(2, 1), (1, 2), (2, 3), (4, 4), (2, 5)]\n"
     ]
    }
   ],
   "source": [
    "def sort_tuple(tup):\n",
    "    return sorted(tup,key=lambda x:x[-1])\n",
    "\n",
    "sample = [(2,5),(1,2),(4,4),(2,3),(2,1)]\n",
    "\n",
    "result = sort_tuple(sample)\n",
    "\n",
    "print(\"Sorted Tuple: \",result)\n",
    "\n",
    "\n",
    "\n"
   ]
  },
  {
   "cell_type": "markdown",
   "id": "f5e2d88f",
   "metadata": {},
   "source": [
    "Q.2 Write a Python program to get a string from a given string where all occurrences of its first char have been changed to '$', except the first char itself. Sample String : 'restart'"
   ]
  },
  {
   "cell_type": "code",
   "execution_count": 3,
   "id": "679fc7db",
   "metadata": {},
   "outputs": [
    {
     "name": "stdout",
     "output_type": "stream",
     "text": [
      "changed string:  resta$t\n"
     ]
    }
   ],
   "source": [
    "def change(string):\n",
    "    char = string[0]\n",
    "    return char+string[1:].replace(char,\"$\")\n",
    "\n",
    "sample = 'restart'\n",
    "print(\"changed string: \",change(sample))"
   ]
  },
  {
   "cell_type": "markdown",
   "id": "aa904a40",
   "metadata": {},
   "source": [
    "Q.3 Write a Python program to find the first appearance of the substring 'not' and 'poor' from a given string, if 'bad' follows the 'poor', replace the whole 'not'...'poor' substring with 'good'. Return the resulting string. \n",
    "Sample String: 'The lyrics is not that poor!' "
   ]
  },
  {
   "cell_type": "code",
   "execution_count": 4,
   "id": "3045b9d8",
   "metadata": {},
   "outputs": [
    {
     "name": "stdout",
     "output_type": "stream",
     "text": [
      "The lyrics is good!\n"
     ]
    }
   ],
   "source": [
    "def not_poor_replace(text):\n",
    "    pos_not = text.find(\"not\")\n",
    "    pos_poor = text.find(\"poor\")\n",
    "\n",
    "    if pos_not != -1 and pos_poor != -1 and pos_poor > pos_not:\n",
    "        text = text.replace(text[pos_not:pos_poor+4], \"good\")\n",
    "    return text\n",
    "\n",
    "sample = \"The lyrics is not that poor!\"\n",
    "print(not_poor_replace(sample))\n"
   ]
  },
  {
   "cell_type": "markdown",
   "id": "4f397a5f",
   "metadata": {},
   "source": [
    "Q.4 Write a python program to sort a dictionary by value"
   ]
  },
  {
   "cell_type": "code",
   "execution_count": 5,
   "id": "a7e1c56e",
   "metadata": {},
   "outputs": [
    {
     "name": "stdout",
     "output_type": "stream",
     "text": [
      "Sorted dictionary: {'banana': 2, 'date': 5, 'cherry': 7, 'apple': 10}\n"
     ]
    }
   ],
   "source": [
    "my_dict = {'apple': 10, 'banana': 2, 'cherry': 7, 'date': 5}\n",
    "\n",
    "items = list(my_dict.items())\n",
    "\n",
    "for i in range(len(items)):\n",
    "    for j in range(i+1, len(items)):\n",
    "        if items[i][1] > items[j][1]:\n",
    "            temp = items[i]\n",
    "            items[i] = items[j]\n",
    "            items[j] = temp\n",
    "\n",
    "sorted_dict = {}\n",
    "for k, v in items:\n",
    "    sorted_dict[k] = v\n",
    "\n",
    "print(\"Sorted dictionary:\", sorted_dict)\n"
   ]
  },
  {
   "cell_type": "markdown",
   "id": "12ba4cea",
   "metadata": {},
   "source": [
    "Q.5 Write a python program to add key to a dictionary."
   ]
  },
  {
   "cell_type": "code",
   "execution_count": 6,
   "id": "30f093f7",
   "metadata": {},
   "outputs": [
    {
     "name": "stdout",
     "output_type": "stream",
     "text": [
      "{0: 10, 1: 20, 2: 30}\n"
     ]
    }
   ],
   "source": [
    "my_dict = {0: 10, 1: 20}\n",
    "my_dict[2] = 30\n",
    "print(my_dict)\n"
   ]
  }
 ],
 "metadata": {
  "kernelspec": {
   "display_name": "Python 3",
   "language": "python",
   "name": "python3"
  },
  "language_info": {
   "codemirror_mode": {
    "name": "ipython",
    "version": 3
   },
   "file_extension": ".py",
   "mimetype": "text/x-python",
   "name": "python",
   "nbconvert_exporter": "python",
   "pygments_lexer": "ipython3",
   "version": "3.13.5"
  }
 },
 "nbformat": 4,
 "nbformat_minor": 5
}
