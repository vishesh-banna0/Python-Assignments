{
  "nbformat": 4,
  "nbformat_minor": 0,
  "metadata": {
    "colab": {
      "provenance": []
    },
    "kernelspec": {
      "name": "python3",
      "display_name": "Python 3"
    },
    "language_info": {
      "name": "python"
    }
  },
  "cells": [
    {
      "cell_type": "markdown",
      "source": [
        "****Assignment 2****\n",
        "* ***Name - Vishesh Shekhawat***\n",
        "* ***Roll No. - 25201323***\n",
        "* ***Github - pass***"
      ],
      "metadata": {
        "id": "yBPADxCwnUH5"
      }
    },
    {
      "cell_type": "markdown",
      "source": [
        "1. Positive or Negative\n",
        "Write a program to check whether a given number is positive, negative, or zero.  \n"
      ],
      "metadata": {
        "id": "oA9KahKqgvSr"
      }
    },
    {
      "cell_type": "code",
      "execution_count": 1,
      "metadata": {
        "colab": {
          "base_uri": "https://localhost:8080/"
        },
        "id": "xrYzDnsWgIWM",
        "outputId": "d89abdf8-31e3-4f55-940f-3d37d0b1f6fd"
      },
      "outputs": [
        {
          "output_type": "stream",
          "name": "stdout",
          "text": [
            "Enter a number: 4\n",
            "It's a positive number\n"
          ]
        }
      ],
      "source": [
        "check = int(input(\"Enter a number: \"))\n",
        "if check < 0:\n",
        "  print(\"It's a negative number\")\n",
        "elif check > 0:\n",
        "  print(\"It's a positive number\")\n",
        "else:\n",
        "  print(\"It's zero\"b)"
      ]
    },
    {
      "cell_type": "markdown",
      "source": [
        "2. Even or Odd\n",
        "Write a program to check whether a given integer is even or odd.\n"
      ],
      "metadata": {
        "id": "2kipxZUKhO88"
      }
    },
    {
      "cell_type": "code",
      "source": [
        "num = int(input(\"Enter a number: \"))\n",
        "if num % 2 == 0:\n",
        "  print(\"It's an even number\")\n",
        "else:\n",
        "  print(\"It's an odd number\")"
      ],
      "metadata": {
        "colab": {
          "base_uri": "https://localhost:8080/"
        },
        "id": "FJvnLi7zhysZ",
        "outputId": "45b1ef0f-a0e7-4694-a01b-323ad64982b2"
      },
      "execution_count": 3,
      "outputs": [
        {
          "output_type": "stream",
          "name": "stdout",
          "text": [
            "Enter a number: 93421\n",
            "It's an odd number\n"
          ]
        }
      ]
    },
    {
      "cell_type": "markdown",
      "source": [
        "3. Largest of Two Numbers\n",
        "Write a program to input two numbers and print which one is larger.\n"
      ],
      "metadata": {
        "id": "vMxup94OitBH"
      }
    },
    {
      "cell_type": "code",
      "source": [
        "num1 = int(input(\"Enter the first number: \"))\n",
        "num2 = int(input(\"Enter the second number: \"))\n",
        "\n",
        "if num1 > num2:\n",
        "  print(f\"{num1} is larger than {num2}\")\n",
        "elif num2 > num1:\n",
        "  print(f\"{num2} is larger than {num1}\")\n",
        "else:\n",
        "  print(\"Both numbers are equal\")\n"
      ],
      "metadata": {
        "colab": {
          "base_uri": "https://localhost:8080/"
        },
        "id": "vTkDFX-Pi43b",
        "outputId": "94304b0c-d2c2-46f1-e8eb-aca433154039"
      },
      "execution_count": 4,
      "outputs": [
        {
          "output_type": "stream",
          "name": "stdout",
          "text": [
            "Enter the first number: 67\n",
            "Enter the second number: 45\n",
            "67 is larger than 45\n"
          ]
        }
      ]
    },
    {
      "cell_type": "markdown",
      "source": [
        "4. Absolute Value\n",
        "Write a program to find the absolute value of a given number without using the abs()  function.\n"
      ],
      "metadata": {
        "id": "jSWlhM4kjVpb"
      }
    },
    {
      "cell_type": "code",
      "source": [
        "num = int(input(\"Enter a number: \"))\n",
        "if num < 0:\n",
        "  print(f\"The absolute value of {num} is {num * -1}\")\n",
        "else:\n",
        "  print(f\"The absolute value of {num} is {num}\")\n"
      ],
      "metadata": {
        "colab": {
          "base_uri": "https://localhost:8080/"
        },
        "id": "KkAVana6jgqH",
        "outputId": "4db56d1e-aebf-46a0-e4d1-50850c644ef7"
      },
      "execution_count": 8,
      "outputs": [
        {
          "output_type": "stream",
          "name": "stdout",
          "text": [
            "Enter a number: -89\n",
            "The absolute value of -89 is 89\n"
          ]
        }
      ]
    },
    {
      "cell_type": "markdown",
      "source": [
        "5. Eligibility for Voting\n",
        "Write a program to check whether a person is eligible to vote or not. (A person is  eligible if their age is 18 or above).\n"
      ],
      "metadata": {
        "id": "ndyQAmZdkZyW"
      }
    },
    {
      "cell_type": "code",
      "source": [
        "age = int(input(\"Enter your age: \"))\n",
        "if age >= 18:\n",
        "  print(\"You are eligible to vote\")\n",
        "else:\n",
        "  print(\"Better Luck Next Time\")"
      ],
      "metadata": {
        "colab": {
          "base_uri": "https://localhost:8080/"
        },
        "id": "RwWE4vRQkedq",
        "outputId": "f203e355-bf23-4204-f7f2-52bdf4c08537"
      },
      "execution_count": 10,
      "outputs": [
        {
          "output_type": "stream",
          "name": "stdout",
          "text": [
            "Enter your age: 6\n",
            "Better Luck Next Time\n"
          ]
        }
      ]
    },
    {
      "cell_type": "markdown",
      "source": [
        "6. Leap Year Check\n",
        "Write a program to check whether a given year is a leap year or not. (Hint: A leap year is  divisible by 4, but not by 100 unless also divisible by 400).\n"
      ],
      "metadata": {
        "id": "gNLtBgnQk_cT"
      }
    },
    {
      "cell_type": "code",
      "source": [
        "year = int(input(\"Enter a year: \"))\n",
        "if (year % 4 == 0 and year % 100 != 0) or (year % 400 == 0):\n",
        "  print(f\"{year} is a leap year\")\n",
        "else:\n",
        "  print(f\"{year} is not a leap year\")\n",
        "#"
      ],
      "metadata": {
        "colab": {
          "base_uri": "https://localhost:8080/"
        },
        "id": "lLYwjuyQlIJs",
        "outputId": "b4bd79c1-b0df-447f-dc16-1e77e5dc3363"
      },
      "execution_count": 11,
      "outputs": [
        {
          "output_type": "stream",
          "name": "stdout",
          "text": [
            "Enter a year: 2025\n",
            "2025 is not a leap year\n"
          ]
        }
      ]
    },
    {
      "cell_type": "markdown",
      "source": [
        "7. Grade Calculation\n",
        "Write a program that takes marks as input and prints:  \n",
        "- 'Pass' if marks are 40 or above  \n",
        "- 'Fail' if marks are less than 40 (2)\n"
      ],
      "metadata": {
        "id": "H598lI4kliFE"
      }
    },
    {
      "cell_type": "code",
      "source": [
        "marks = int(input(\"Enter your marks: \"))\n",
        "if marks >= 40:\n",
        "  print(\"Pass\")\n",
        "else:\n",
        "  print(\"Fail\")"
      ],
      "metadata": {
        "colab": {
          "base_uri": "https://localhost:8080/"
        },
        "id": "r58F4UADlnon",
        "outputId": "23733ca7-536a-4f17-9e26-128d6f40b57c"
      },
      "execution_count": 12,
      "outputs": [
        {
          "output_type": "stream",
          "name": "stdout",
          "text": [
            "Enter your marks: 39\n",
            "Fail\n"
          ]
        }
      ]
    },
    {
      "cell_type": "markdown",
      "source": [
        "8. Multiple of 5\n",
        "Write a program to check whether a given number is a multiple of 5.\n"
      ],
      "metadata": {
        "id": "9BaK_UV1l5oP"
      }
    },
    {
      "cell_type": "code",
      "source": [
        "number = int(input(\"Enter a number: \"))\n",
        "if number % 5 == 0:\n",
        "  print(f\"{number} is a multiple of 5\")\n",
        "else:\n",
        "  print(f\"{number} is not a multiple of 5\")\n"
      ],
      "metadata": {
        "colab": {
          "base_uri": "https://localhost:8080/"
        },
        "id": "BjksooNymB52",
        "outputId": "408f849a-f531-462d-d6ec-a404c3f27147"
      },
      "execution_count": 13,
      "outputs": [
        {
          "output_type": "stream",
          "name": "stdout",
          "text": [
            "Enter a number: 46\n",
            "46 is not a multiple of 5\n"
          ]
        }
      ]
    },
    {
      "cell_type": "markdown",
      "source": [
        "9. Character Case Check\n",
        "Write a program to input a character and check whether it is an uppercase letter,  lowercase letter, or not a letter.\n"
      ],
      "metadata": {
        "id": "O5883nsUmQpb"
      }
    },
    {
      "cell_type": "code",
      "source": [
        "character = input(\"Enter a character: \")\n",
        "if character.isupper():\n",
        "  print(f\"{character} is an uppercase letter\")\n",
        "elif character.islower():\n",
        "  print(f\"{character} is a lowercase letter\")"
      ],
      "metadata": {
        "colab": {
          "base_uri": "https://localhost:8080/"
        },
        "id": "LLLvxw0omWfA",
        "outputId": "5cada285-b448-4634-b218-c3a2f1f50d9f"
      },
      "execution_count": 15,
      "outputs": [
        {
          "output_type": "stream",
          "name": "stdout",
          "text": [
            "Enter a character: X\n",
            "X is an uppercase letter\n"
          ]
        }
      ]
    },
    {
      "cell_type": "markdown",
      "source": [
        "10. Discount Calculator\n",
        "Write a program that calculates the discount:\n",
        "\n",
        "- If purchase amount is greater than or equal to 1000, apply a 10% discount.\n",
        "- Otherwise, no discount.\n",
        "\n",
        "Finally, print the final bill amount."
      ],
      "metadata": {
        "id": "kh2xYnSYm3Lv"
      }
    },
    {
      "cell_type": "code",
      "source": [
        "purchase = float(input(\"Enter the purchase amount: \"))\n",
        "if purchase >= 1000:\n",
        "  discount = purchase * 0.1\n",
        "  final_bill = purchase - discount\n",
        "  print(f\"The final bill amount is {final_bill}\")\n",
        "else:\n",
        "  print(f\"The final bill amount is {purchase}\")"
      ],
      "metadata": {
        "colab": {
          "base_uri": "https://localhost:8080/"
        },
        "id": "1vGiVOiknDbY",
        "outputId": "80df21c5-4079-4c0f-cd6a-35d33cde47e0"
      },
      "execution_count": 17,
      "outputs": [
        {
          "output_type": "stream",
          "name": "stdout",
          "text": [
            "Enter the purchase amount: 1001\n",
            "The final bill amount is 900.9\n"
          ]
        }
      ]
    }
  ]
}